{
 "cells": [
  {
   "cell_type": "markdown",
   "metadata": {
    "editable": true
   },
   "source": [
    "# Part I. ETL Pipeline for Pre-Processing the Files"
   ]
  },
  {
   "cell_type": "markdown",
   "metadata": {
    "editable": true
   },
   "source": [
    "## PLEASE RUN THE FOLLOWING CODE FOR PRE-PROCESSING THE FILES"
   ]
  },
  {
   "cell_type": "markdown",
   "metadata": {
    "editable": true
   },
   "source": [
    "#### Import Python packages "
   ]
  },
  {
   "cell_type": "code",
   "execution_count": 19,
   "metadata": {
    "editable": true
   },
   "outputs": [],
   "source": [
    "# Import Python packages \n",
    "import pandas as pd\n",
    "import cassandra\n",
    "import re\n",
    "import os\n",
    "import glob\n",
    "import numpy as np\n",
    "import json\n",
    "import csv\n",
    "from prettytable import PrettyTable"
   ]
  },
  {
   "cell_type": "markdown",
   "metadata": {
    "editable": true
   },
   "source": [
    "#### Creating list of filepaths to process original event csv data files"
   ]
  },
  {
   "cell_type": "code",
   "execution_count": 20,
   "metadata": {
    "editable": true
   },
   "outputs": [
    {
     "name": "stdout",
     "output_type": "stream",
     "text": [
      "/home/workspace\n"
     ]
    }
   ],
   "source": [
    "# checking the current working directory\n",
    "print(os.getcwd())\n",
    "\n",
    "# Getting the current folder and subfolder event data\n",
    "filepath = os.getcwd() + '/event_data'\n",
    "\n",
    "# Create a for loop to create a list of files and collect each filepath\n",
    "for root, dirs, files in os.walk(filepath):\n",
    "    \n",
    "# join the file path and roots with the subdirectories using glob\n",
    "    file_path_list = glob.glob(os.path.join(root,'*'))\n",
    "    #print(file_path_list)"
   ]
  },
  {
   "cell_type": "markdown",
   "metadata": {
    "editable": true
   },
   "source": [
    "#### Processing the files to create the data file csv that will be used for Apache Casssandra tables"
   ]
  },
  {
   "cell_type": "code",
   "execution_count": 21,
   "metadata": {
    "editable": true
   },
   "outputs": [],
   "source": [
    "# initiating an empty list of rows that will be generated from each file\n",
    "full_data_rows_list = [] \n",
    "    \n",
    "# for every filepath in the file path list \n",
    "for f in file_path_list:\n",
    "\n",
    "# reading csv file \n",
    "    with open(f, 'r', encoding = 'utf8', newline='') as csvfile: \n",
    "        # creating a csv reader object \n",
    "        csvreader = csv.reader(csvfile) \n",
    "        next(csvreader)\n",
    "        \n",
    " # extracting each data row one by one and append it        \n",
    "        for line in csvreader:\n",
    "            #print(line)\n",
    "            full_data_rows_list.append(line) \n",
    "            \n",
    "# uncomment the code below to get total number of rows \n",
    "#print(len(full_data_rows_list))\n",
    "# uncomment the code below to check to see what the list of event data rows will look like\n",
    "#print(full_data_rows_list)\n",
    "\n",
    "# creating a smaller event data csv file called event_datafile_full csv that will be used to insert data into the \\\n",
    "# Apache Cassandra tables\n",
    "csv.register_dialect('myDialect', quoting=csv.QUOTE_ALL, skipinitialspace=True)\n",
    "\n",
    "with open('event_datafile_new.csv', 'w', encoding = 'utf8', newline='') as f:\n",
    "    writer = csv.writer(f, dialect='myDialect')\n",
    "    writer.writerow(['artist','firstName','gender','itemInSession','lastName','length',\\\n",
    "                'level','location','sessionId','song','userId'])\n",
    "    for row in full_data_rows_list:\n",
    "        if (row[0] == ''):\n",
    "            continue\n",
    "        writer.writerow((row[0], row[2], row[3], row[4], row[5], row[6], row[7], row[8], row[12], row[13], row[16]))\n"
   ]
  },
  {
   "cell_type": "code",
   "execution_count": 22,
   "metadata": {
    "editable": true
   },
   "outputs": [
    {
     "name": "stdout",
     "output_type": "stream",
     "text": [
      "6821\n"
     ]
    }
   ],
   "source": [
    "# checking the number of rows in the given csv file\n",
    "with open('event_datafile_new.csv', 'r', encoding = 'utf8') as f:\n",
    "    print(sum(1 for line in f))"
   ]
  },
  {
   "cell_type": "markdown",
   "metadata": {
    "editable": true
   },
   "source": [
    "# Part II. Data Modeling with Apache Cassandra\n",
    "\n",
    "## The event_datafile_new.csv contains the following columns: \n",
    "- artist \n",
    "- firstName of user\n",
    "- gender of user\n",
    "- item number in session\n",
    "- last name of user\n",
    "- length of the song\n",
    "- level (paid or free song)\n",
    "- location of the user\n",
    "- sessionId\n",
    "- song title\n",
    "- userId\n",
    "\n",
    "The image below is a screenshot of what the denormalized data should appear like in the <font color=red>**event_datafile_new.csv**</font> after the code above is run:<br>\n",
    "\n",
    "<img src=\"images/image_event_datafile_new.jpg\">"
   ]
  },
  {
   "cell_type": "markdown",
   "metadata": {
    "editable": true
   },
   "source": [
    "## Methodology\n",
    "I am creating a cluster, followed by creating a keyspace (schema), review the business requirements, design the queries, design the primary key for each of the queries, insert the values into the queries, execute the query to verify the data \n",
    "\n",
    "#### Creating a Cluster"
   ]
  },
  {
   "cell_type": "code",
   "execution_count": 23,
   "metadata": {
    "editable": true
   },
   "outputs": [],
   "source": [
    "# This should make a connection to a Cassandra instance your local machine \n",
    "# (127.0.0.1)\n",
    "\n",
    "from cassandra.cluster import Cluster\n",
    "cluster = Cluster()\n",
    "\n",
    "# To establish connection and begin executing queries, need a session\n",
    "session = cluster.connect()"
   ]
  },
  {
   "cell_type": "markdown",
   "metadata": {
    "editable": true
   },
   "source": [
    "#### Creating Apache Cassandra Keyspace"
   ]
  },
  {
   "cell_type": "code",
   "execution_count": 24,
   "metadata": {
    "editable": true
   },
   "outputs": [],
   "source": [
    "# Create a Keyspace \n",
    "try:\n",
    "    session.execute(\"\"\"\n",
    "    CREATE KEYSPACE IF NOT EXISTS cassandradm \n",
    "    WITH REPLICATION = \n",
    "    { 'class' : 'SimpleStrategy', 'replication_factor' : 1 }\"\"\"\n",
    ")\n",
    "\n",
    "except Exception as e:\n",
    "    print(e)"
   ]
  },
  {
   "cell_type": "markdown",
   "metadata": {
    "editable": true
   },
   "source": [
    "#### Setting the Keyspace"
   ]
  },
  {
   "cell_type": "code",
   "execution_count": 25,
   "metadata": {
    "editable": true
   },
   "outputs": [],
   "source": [
    "# TO-DO: Set KEYSPACE to the keyspace specified above\n",
    "try:\n",
    "    session.set_keyspace('cassandradm')\n",
    "except Exception as e:\n",
    "    print(e)"
   ]
  },
  {
   "cell_type": "markdown",
   "metadata": {
    "editable": true
   },
   "source": [
    "Note: Now we need to create tables to run the following queries. With Apache Cassandra, we model the database tables on the queries you want to run."
   ]
  },
  {
   "cell_type": "markdown",
   "metadata": {
    "editable": true
   },
   "source": [
    "## Business Requirements\n",
    "1. Give me the artist, song title and song's length in the music app history that was heard during  sessionId = 338, and itemInSession  = 4\n",
    "2. Give me only the following: name of artist, song (sorted by itemInSession) and user (first and last name) for userid = 10, sessionid = 182\n",
    "3. Give me every user name (first and last) in my music app history who listened to the song 'All Hands Against His Own'"
   ]
  },
  {
   "cell_type": "markdown",
   "metadata": {
    "editable": true
   },
   "source": [
    "## Query 1 - SONG_LENGTH_TITLE\n",
    "### DESCRIPTION\n",
    "Creating a query that retrieves artist, song title, song length, sessionId and itemInSession \n",
    "### PRIMARY KEY DESIGN\n",
    "Here the primary key is a composite partition key that uniquely identifies each column by combining sessionId and itemInSession\n",
    "In this composite primary key, the field sessionId is used to partition the data, can be distributed across the nodes and itemInSession is utilized to sort from the results as a clustered key"
   ]
  },
  {
   "cell_type": "code",
   "execution_count": 26,
   "metadata": {
    "editable": true
   },
   "outputs": [],
   "source": [
    "query1 = \"CREATE TABLE IF NOT EXISTS song_length_title\"\n",
    "query1 = query1 + \"(artist text, song text, length float, sessionId text, itemInSession text, \\\n",
    "                    PRIMARY KEY (sessionId, itemInSession))\"\n",
    "try:\n",
    "    session.execute(query1)\n",
    "except Exception as e:\n",
    "    print(e)"
   ]
  },
  {
   "cell_type": "code",
   "execution_count": 27,
   "metadata": {
    "editable": true
   },
   "outputs": [],
   "source": [
    "# process the files to insert into the query that will be used for apache cassandra tables\n",
    "file = 'event_datafile_new.csv'\n",
    "\n",
    "with open(file, encoding = 'utf8') as f:\n",
    "    csvreader = csv.reader(f)\n",
    "    next(csvreader) # skip header\n",
    "    for line in csvreader:\n",
    "        query = \"INSERT INTO song_length_title (artist, song, length, sessionId, itemInSession)\"\n",
    "        query = query + \"VALUES (%s,%s,%s,%s,%s)\"\n",
    "        session.execute(query, (line[0], line[9],float(line[5]),line[8],line[3]))"
   ]
  },
  {
   "cell_type": "code",
   "execution_count": 28,
   "metadata": {
    "editable": true,
    "scrolled": true
   },
   "outputs": [
    {
     "name": "stdout",
     "output_type": "stream",
     "text": [
      "+-----------+---------------------------------+--------------------+-----------+---------------+\n",
      "|   artist  |               song              |       length       | sessionId | itemInSession |\n",
      "+-----------+---------------------------------+--------------------+-----------+---------------+\n",
      "| Faithless | Music Matters (Mark Knight Dub) | 495.30731201171875 |    338    |       4       |\n",
      "+-----------+---------------------------------+--------------------+-----------+---------------+\n"
     ]
    }
   ],
   "source": [
    "# execute the query to vertify the data have been inserted into the table\n",
    "\n",
    "query1a = \"select artist, song, length, sessionId, itemInSession from song_length_title where sessionId = '338' and itemInSession = '4'\"\n",
    "\n",
    "try:\n",
    "    rows = session.execute(query1a)\n",
    "except Exception as e:\n",
    "    print(e)\n",
    "\n",
    "# Using Python's prettytable to format the output \n",
    "pt = PrettyTable()\n",
    "pt.field_names = [\"artist\",\"song\",\"length\",\"sessionId\",\"itemInSession\"]\n",
    "for i in rows:\n",
    "    pt.add_row(i)\n",
    "\n",
    "print(pt)"
   ]
  },
  {
   "cell_type": "markdown",
   "metadata": {
    "editable": true
   },
   "source": [
    "## Query 2 - SONG_USER_INFO\n",
    "### Description\n",
    "The following query will retrive the artist name, song title, user id, their names, along with sessionId, itemInSession\n",
    "### Primary Key Design\n",
    "Since the requirements clearly stated that the query song should be sorted by itemInSession, I designed the primary key to be a composite/compound key, where,\n",
    "1. the first portion of a composite key will be a combination of userId and SessionId, used to parition the data, that is to be distributed across the nodes\n",
    "2. the second potion of the composite key will be itemInSession, a clustered key used to sort the results by"
   ]
  },
  {
   "cell_type": "code",
   "execution_count": 32,
   "metadata": {
    "editable": true
   },
   "outputs": [],
   "source": [
    "## name of artist, song (sorted by itemInSession) and user (first and last name) for userid = 10, sessionid = 182\n",
    "query2 = \"CREATE TABLE IF NOT EXISTS song_user_info\"\n",
    "query2 = query2 + \"(artist text, song text, firstName text, lastName text, userId int,\\\n",
    "                    sessionId text, itemInSession text, \\\n",
    "                    PRIMARY KEY ((userid,sessionId), itemInSession))\"\n",
    "try:\n",
    "    session.execute(query2)\n",
    "except Exception as e:\n",
    "    print(e)"
   ]
  },
  {
   "cell_type": "code",
   "execution_count": 30,
   "metadata": {
    "editable": true
   },
   "outputs": [],
   "source": [
    "file = 'event_datafile_new.csv'\n",
    "\n",
    "with open(file, encoding = 'utf8') as f:\n",
    "    csvreader = csv.reader(f)\n",
    "    next(csvreader) # skip header\n",
    "    for line in csvreader:\n",
    "        query = \"INSERT INTO song_user_info (artist, song, firstName, lastName, userId, sessionId, itemInSession)\"\n",
    "        query = query + \"VALUES (%s, %s, %s, %s, %s, %s, %s)\"\n",
    "        session.execute(query, (line[0], line[9], line[1], line[4],int(line[10]),line[8],line[3]))"
   ]
  },
  {
   "cell_type": "code",
   "execution_count": 31,
   "metadata": {
    "editable": true
   },
   "outputs": [
    {
     "name": "stdout",
     "output_type": "stream",
     "text": [
      "+-------------------+------------------------------------------------------+-----------+----------+--------+-----------+---------------+\n",
      "|       artist      |                         song                         | firstName | lastName | userId | sessionId | itemInSession |\n",
      "+-------------------+------------------------------------------------------+-----------+----------+--------+-----------+---------------+\n",
      "|  Down To The Bone |                  Keep On Keepin' On                  |   Sylvie  |   Cruz   |   10   |    182    |       0       |\n",
      "|    Three Drives   |                     Greece 2000                      |   Sylvie  |   Cruz   |   10   |    182    |       1       |\n",
      "| Sebastien Tellier |                      Kilometer                       |   Sylvie  |   Cruz   |   10   |    182    |       2       |\n",
      "|   Lonnie Gordon   | Catch You Baby (Steve Pitron & Max Sanna Radio Edit) |   Sylvie  |   Cruz   |   10   |    182    |       3       |\n",
      "+-------------------+------------------------------------------------------+-----------+----------+--------+-----------+---------------+\n"
     ]
    }
   ],
   "source": [
    "query2a = \"select artist, song, firstName, lastName, userId, sessionId, itemInSession \\\n",
    "            from song_user_info where sessionId = '182' and userId = 10\"\n",
    "\n",
    "try:\n",
    "    rows = session.execute(query2a)\n",
    "except Exception as e:\n",
    "    print(e)\n",
    "\n",
    "pt = PrettyTable()\n",
    "pt.field_names = [\"artist\",\"song\",\"firstName\",\"lastName\",\"userId\",\"sessionId\",\"itemInSession\"]\n",
    "\n",
    "\n",
    "for i in rows:\n",
    "    pt.add_row(i)\n",
    "\n",
    "print(pt)"
   ]
  },
  {
   "cell_type": "markdown",
   "metadata": {
    "editable": true
   },
   "source": [
    "## Query - allhandsagainsthisown\n",
    "### Description\n",
    "This query will retrieve user information for a specific song, called 'All Hands Against His Own'\n",
    "### Primary key Design\n",
    "I designed the primary key, in such a way:\n",
    "1. Paritioning of data will happen across the song so the data is distrubted by song across the nodes\n",
    "2. Clustering (sorting) will happen on the basis of userId"
   ]
  },
  {
   "cell_type": "code",
   "execution_count": 33,
   "metadata": {
    "editable": true
   },
   "outputs": [],
   "source": [
    "## All user names (first and last) in music app history who listened to the song 'All Hands Against His Own'\n",
    "\n",
    "query3 = \"CREATE TABLE IF NOT EXISTS allhandsagainsthisown\"\n",
    "query3 = query3 + \"(firstName text, lastName text, song text, userId int, \\\n",
    "                    PRIMARY KEY (song, userId))\"\n",
    "try:\n",
    "    session.execute(query3)\n",
    "except Exception as e:\n",
    "    print(e)"
   ]
  },
  {
   "cell_type": "code",
   "execution_count": 34,
   "metadata": {
    "editable": true
   },
   "outputs": [],
   "source": [
    "file = 'event_datafile_new.csv'\n",
    "\n",
    "with open(file, encoding = 'utf8') as f:\n",
    "    csvreader = csv.reader(f)\n",
    "    next(csvreader) # skip header\n",
    "    for line in csvreader:\n",
    "        query = \"INSERT INTO allhandsagainsthisown (firstName, lastName, song, userId)\"\n",
    "        query = query + \"VALUES (%s, %s, %s, %s)\"\n",
    "        session.execute(query, (line[1], line[4], line[9], int(line[10])))"
   ]
  },
  {
   "cell_type": "code",
   "execution_count": 37,
   "metadata": {
    "editable": true
   },
   "outputs": [
    {
     "name": "stdout",
     "output_type": "stream",
     "text": [
      "+------------+----------+\n",
      "| firstName  | lastName |\n",
      "+------------+----------+\n",
      "| Jacqueline |  Lynch   |\n",
      "|   Tegan    |  Levine  |\n",
      "|    Sara    | Johnson  |\n",
      "+------------+----------+\n"
     ]
    }
   ],
   "source": [
    "query3a = \"select firstName, lastName from allhandsagainsthisown WHERE song='All Hands Against His Own'\"\n",
    "\n",
    "try:\n",
    "    rows = session.execute(query3a)\n",
    "except Exception as e:\n",
    "    print(e)\n",
    "\n",
    "# Pretty print the output\n",
    "pt = PrettyTable()\n",
    "pt.field_names = [\"firstName\",\"lastName\"]\n",
    "for i in rows:\n",
    "    pt.add_row(i)\n",
    "\n",
    "print(pt)"
   ]
  },
  {
   "cell_type": "markdown",
   "metadata": {
    "editable": true
   },
   "source": [
    "### Dropping the tables before closing out the sessions"
   ]
  },
  {
   "cell_type": "code",
   "execution_count": 38,
   "metadata": {
    "editable": true
   },
   "outputs": [],
   "source": [
    "query = \"drop table song_length_title\"\n",
    "try:\n",
    "    rows = session.execute(query)\n",
    "except Exception as e:\n",
    "    print(e)\n",
    "\n",
    "query = \"drop table song_user_info\"\n",
    "try:\n",
    "    rows = session.execute(query)\n",
    "except Exception as e:\n",
    "    print(e)\n",
    "\n",
    "query = \"drop table allhandsagainsthisown\"\n",
    "try:\n",
    "    rows = session.execute(query)\n",
    "except Exception as e:\n",
    "    print(e)"
   ]
  },
  {
   "cell_type": "code",
   "execution_count": null,
   "metadata": {
    "editable": true
   },
   "outputs": [],
   "source": []
  },
  {
   "cell_type": "markdown",
   "metadata": {
    "editable": true
   },
   "source": [
    "### Close the session and cluster connection¶"
   ]
  },
  {
   "cell_type": "code",
   "execution_count": 39,
   "metadata": {
    "editable": true
   },
   "outputs": [],
   "source": [
    "session.shutdown()\n",
    "cluster.shutdown()"
   ]
  },
  {
   "cell_type": "code",
   "execution_count": null,
   "metadata": {
    "editable": true
   },
   "outputs": [],
   "source": []
  },
  {
   "cell_type": "code",
   "execution_count": null,
   "metadata": {
    "editable": true
   },
   "outputs": [],
   "source": []
  }
 ],
 "metadata": {
  "kernelspec": {
   "display_name": "Python 3",
   "language": "python",
   "name": "python3"
  },
  "language_info": {
   "codemirror_mode": {
    "name": "ipython",
    "version": 3
   },
   "file_extension": ".py",
   "mimetype": "text/x-python",
   "name": "python",
   "nbconvert_exporter": "python",
   "pygments_lexer": "ipython3",
   "version": "3.6.3"
  }
 },
 "nbformat": 4,
 "nbformat_minor": 4
}
